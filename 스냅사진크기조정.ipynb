{
 "cells": [
  {
   "cell_type": "code",
   "execution_count": null,
   "metadata": {},
   "outputs": [],
   "source": [
    "import os\n",
    "import pandas as pd\n",
    "import requests\n",
    "from PIL import Image\n",
    "from io import BytesIO\n",
    "\n",
    "# CSV 파일 불러오기\n",
    "csv_file_path = r'C:\\Users\\leehy\\Desktop\\240827_toyproject_khuda\\musinsa_image_crawling 2.csv'\n",
    "df = pd.read_csv(csv_file_path)\n",
    "\n",
    "# 이미지가 저장될 기본 경로 설정\n",
    "base_save_path = r'C:\\Users\\leehy\\Desktop\\240827_toyproject_khuda\\스냅사진'\n",
    "\n",
    "# 이미지 크기 설정\n",
    "target_size = (224, 224)\n",
    "\n",
    "# 이미지 전처리 및 저장 함수\n",
    "def preprocess_and_save_image(url, save_dir, index):\n",
    "    try:\n",
    "        # 이미지 다운로드\n",
    "        response = requests.get(url)\n",
    "        img = Image.open(BytesIO(response.content))\n",
    "        \n",
    "        # 이미지 크기 조정\n",
    "        img = img.resize(target_size)\n",
    "        \n",
    "        # 이미지 저장 경로 설정\n",
    "        save_path = os.path.join(save_dir, f'{index}.jpg')\n",
    "        \n",
    "        # 이미지 저장\n",
    "        img.save(save_path)\n",
    "        \n",
    "        print(f\"Saved image {index} from {url} to {save_path}\")\n",
    "    except Exception as e:\n",
    "        print(f\"Failed to process image from {url}: {e}\")\n",
    "\n",
    "# 스냅사진 열에서 URL과 품번 가져오기\n",
    "for index, row in df.iterrows():\n",
    "    품번 = row['품번']  # 각 상품의 품번을 폴더 이름으로 사용\n",
    "    image_urls = row['스냅사진'].split(',')  # 스냅사진 열의 URL들 (콤마로 분리되어 있다고 가정)\n",
    "    \n",
    "    # 품번 폴더 경로 설정\n",
    "    save_dir = os.path.join(base_save_path, str(품번))\n",
    "    os.makedirs(save_dir, exist_ok=True)\n",
    "    \n",
    "    # 각 URL에 대해 이미지 다운로드 및 저장\n",
    "    for i, url in enumerate(image_urls):\n",
    "        preprocess_and_save_image(url.strip(), save_dir, i+1)\n",
    "\n",
    "print(\"All images have been processed and saved.\")"
   ]
  }
 ],
 "metadata": {
  "language_info": {
   "name": "python"
  }
 },
 "nbformat": 4,
 "nbformat_minor": 2
}
